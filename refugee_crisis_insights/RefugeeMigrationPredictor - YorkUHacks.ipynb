{
 "cells": [
  {
   "cell_type": "code",
   "execution_count": null,
   "metadata": {},
   "outputs": [],
   "source": [
    "import pandas as pd\n",
    "import numpy as np\n",
    "import os\n",
    "\n",
    "# columns (training):\n",
    "#   year                [x]\n",
    "#   country of asylumn  [v]\n",
    "#   origin              [v]\n",
    "#   RSD (G or U or J)   [v]\n",
    "#   applied during year [v]\n",
    "#   decisions \n",
    "\n",
    "# columns (inference):\n",
    "#   \n",
    "\n",
    "train_df = pd.read()"
   ]
  }
 ],
 "metadata": {
  "kernelspec": {
   "display_name": "Python 3",
   "language": "python",
   "name": "python3"
  },
  "language_info": {
   "codemirror_mode": {
    "name": "ipython",
    "version": 3
   },
   "file_extension": ".py",
   "mimetype": "text/x-python",
   "name": "python",
   "nbconvert_exporter": "python",
   "pygments_lexer": "ipython3",
   "version": "3.5.2"
  }
 },
 "nbformat": 4,
 "nbformat_minor": 2
}
